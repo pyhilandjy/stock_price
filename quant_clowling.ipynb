{
 "cells": [
  {
   "cell_type": "code",
   "execution_count": 5,
   "metadata": {},
   "outputs": [],
   "source": [
    "import requests as rq\n",
    "from bs4 import BeautifulSoup"
   ]
  },
  {
   "cell_type": "code",
   "execution_count": 21,
   "metadata": {},
   "outputs": [],
   "source": [
    "def getppo(stock_code):\n",
    "    ppo = []\n",
    "    url = f\"https://finance.naver.com/item/main.naver?code={stock_code}\"\n",
    "    res = rq.get(url)\n",
    "    soup = BeautifulSoup(res.text, 'lxml')\n",
    "    try:\n",
    "        per = soup.select_one('#_per').text\n",
    "    except AttributeError:\n",
    "        per = 0\n",
    "    try:\n",
    "        pbr = soup.select_one('#content > div.section.trade_compare > table > tbody > tr:nth-child(14) > td:nth-child(2)').text\n",
    "    except AttributeError:\n",
    "        pbr = 0\n",
    "    try:\n",
    "        roe = soup.select_one('#content > div.section.trade_compare > table > tbody > tr:nth-child(12) > td:nth-child(2)').text\n",
    "    except AttributeError:\n",
    "        roe = 0\n",
    "    ppo_if = [stock_code, per, pbr, roe]\n",
    "    ppo.append(ppo_if)\n",
    "    ppo = pd.DataFrame(ppo, columns=['stock_code', 'PER', 'PBR', 'ROE'])\n",
    "    return ppo"
   ]
  },
  {
   "cell_type": "code",
   "execution_count": 20,
   "metadata": {},
   "outputs": [
    {
     "data": {
      "text/html": [
       "<div>\n",
       "<style scoped>\n",
       "    .dataframe tbody tr th:only-of-type {\n",
       "        vertical-align: middle;\n",
       "    }\n",
       "\n",
       "    .dataframe tbody tr th {\n",
       "        vertical-align: top;\n",
       "    }\n",
       "\n",
       "    .dataframe thead th {\n",
       "        text-align: right;\n",
       "    }\n",
       "</style>\n",
       "<table border=\"1\" class=\"dataframe\">\n",
       "  <thead>\n",
       "    <tr style=\"text-align: right;\">\n",
       "      <th></th>\n",
       "      <th>stock_code</th>\n",
       "      <th>PER</th>\n",
       "      <th>PBR</th>\n",
       "      <th>ROE</th>\n",
       "    </tr>\n",
       "  </thead>\n",
       "  <tbody>\n",
       "    <tr>\n",
       "      <th>0</th>\n",
       "      <td>016360</td>\n",
       "      <td>6.13</td>\n",
       "      <td>0.51</td>\n",
       "      <td>8.58</td>\n",
       "    </tr>\n",
       "  </tbody>\n",
       "</table>\n",
       "</div>"
      ],
      "text/plain": [
       "  stock_code   PER   PBR   ROE\n",
       "0     016360  6.13  0.51  8.58"
      ]
     },
     "execution_count": 20,
     "metadata": {},
     "output_type": "execute_result"
    }
   ],
   "source": [
    "getppo('016360')"
   ]
  }
 ],
 "metadata": {
  "kernelspec": {
   "display_name": "yeardream",
   "language": "python",
   "name": "python3"
  },
  "language_info": {
   "codemirror_mode": {
    "name": "ipython",
    "version": 3
   },
   "file_extension": ".py",
   "mimetype": "text/x-python",
   "name": "python",
   "nbconvert_exporter": "python",
   "pygments_lexer": "ipython3",
   "version": "3.9.16"
  },
  "orig_nbformat": 4
 },
 "nbformat": 4,
 "nbformat_minor": 2
}
